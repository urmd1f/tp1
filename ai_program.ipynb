{
 "cells": [
  {
   "cell_type": "code",
   "execution_count": 2,
   "metadata": {},
   "outputs": [
    {
     "name": "stdout",
     "output_type": "stream",
     "text": [
      "[안내] 은닉 계층 2개를 갖는 다층 퍼셉트론이 적용됩니다.\n",
      "Epoch 1   : Train - Loss = 16.420, Accuracy = 0.726 / Test - Accuracy = 0.835\n",
      "Epoch 2   : Train - Loss = 6.889, Accuracy = 0.810 / Test - Accuracy = 0.828\n",
      "Epoch 3   : Train - Loss = 6.732, Accuracy = 0.808 / Test - Accuracy = 0.835\n",
      "Epoch 4   : Train - Loss = 6.352, Accuracy = 0.816 / Test - Accuracy = 0.819\n",
      "Epoch 5   : Train - Loss = 6.262, Accuracy = 0.813 / Test - Accuracy = 0.828\n",
      "Epoch 6   : Train - Loss = 5.913, Accuracy = 0.820 / Test - Accuracy = 0.824\n",
      "Epoch 7   : Train - Loss = 5.800, Accuracy = 0.821 / Test - Accuracy = 0.846\n",
      "Epoch 8   : Train - Loss = 5.671, Accuracy = 0.823 / Test - Accuracy = 0.805\n",
      "Epoch 9   : Train - Loss = 5.512, Accuracy = 0.826 / Test - Accuracy = 0.739\n",
      "Epoch 10   : Train - Loss = 5.519, Accuracy = 0.824 / Test - Accuracy = 0.834\n",
      "==============================  Final TEST  ==============================\n",
      "\n",
      "Final Accuracy = 0.834\n"
     ]
    }
   ],
   "source": [
    "# 회귀 모델 동작\n",
    "\n",
    "# 회귀문제 단층 퍼셉트론 모델 불러오기 \n",
    "%run .../AnnModel1.ipynb\n",
    "# 다층 퍼셉트론 기능 추가 \n",
    "%run .../mlp.ipynb\n",
    "\n",
    "# 아무 값도 입력하지 않으면 은닉계층을 갖지 않는 SLP 이 구축됩니다.\n",
    "set_hidden([1,2])\n",
    "# 메서드 동작\n",
    "main()"
   ]
  },
  {
   "cell_type": "code",
   "execution_count": 3,
   "metadata": {},
   "outputs": [
    {
     "name": "stdout",
     "output_type": "stream",
     "text": [
      "[안내] 은닉 계층 2개를 갖는 다층 퍼셉트론이 적용됩니다.\n",
      "Epoch 1   : Train - Loss = 0.408, Accuracy = 0.906 / Test - Accuracy = 0.913\n",
      "Epoch 2   : Train - Loss = 0.318, Accuracy = 0.906 / Test - Accuracy = 0.913\n",
      "Epoch 3   : Train - Loss = 0.313, Accuracy = 0.906 / Test - Accuracy = 0.913\n",
      "Epoch 4   : Train - Loss = 0.313, Accuracy = 0.906 / Test - Accuracy = 0.913\n",
      "Epoch 5   : Train - Loss = 0.312, Accuracy = 0.906 / Test - Accuracy = 0.913\n",
      "Epoch 6   : Train - Loss = 0.312, Accuracy = 0.906 / Test - Accuracy = 0.913\n",
      "Epoch 7   : Train - Loss = 0.312, Accuracy = 0.906 / Test - Accuracy = 0.913\n",
      "Epoch 8   : Train - Loss = 0.312, Accuracy = 0.906 / Test - Accuracy = 0.913\n",
      "Epoch 9   : Train - Loss = 0.312, Accuracy = 0.906 / Test - Accuracy = 0.913\n",
      "Epoch 10   : Train - Loss = 0.312, Accuracy = 0.906 / Test - Accuracy = 0.913\n",
      "==============================  Final TEST  ==============================\n",
      "\n",
      "Final Accuracy = 0.913\n"
     ]
    }
   ],
   "source": [
    "# 이진판단 모델동작\n",
    "\n",
    "# 회귀문제 단층 퍼셉트론 모델 불러오기 \n",
    "%run .../AnnModel2.ipynb\n",
    "# 다층 퍼셉트론 기능 추가 \n",
    "%run .../mlp.ipynb\n",
    "\n",
    "# 아무 값도 입력하지 않으면 은닉계층을 갖지 않는 SLP 이 구축됩니다.\n",
    "set_hidden([1,2])\n",
    "# 메서드 동작\n",
    "binary_main()"
   ]
  },
  {
   "cell_type": "code",
   "execution_count": 6,
   "metadata": {},
   "outputs": [
    {
     "name": "stdout",
     "output_type": "stream",
     "text": [
      "[안내] 은닉 계층 2개를 갖는 다층 퍼셉트론이 적용됩니다.\n",
      "[Epoch 1] Train Loss = 0.560 | Test Acc = 0.788, Precision = 0.926, Recall = 0.624, F1 = 0.746\n",
      "[Epoch 2] Train Loss = 0.486 | Test Acc = 0.503, Precision = 0.000, Recall = 0.000, F1 = 0.000\n",
      "[Epoch 3] Train Loss = 0.423 | Test Acc = 0.853, Precision = 0.924, Recall = 0.767, F1 = 0.838\n",
      "[Epoch 4] Train Loss = 0.307 | Test Acc = 0.912, Precision = 0.946, Recall = 0.873, F1 = 0.908\n",
      "[Epoch 5] Train Loss = 0.245 | Test Acc = 0.921, Precision = 0.960, Recall = 0.877, F1 = 0.916\n",
      "[Epoch 6] Train Loss = 0.232 | Test Acc = 0.921, Precision = 0.936, Recall = 0.903, F1 = 0.919\n",
      "[Epoch 7] Train Loss = 0.227 | Test Acc = 0.927, Precision = 0.948, Recall = 0.904, F1 = 0.925\n",
      "[Epoch 8] Train Loss = 0.225 | Test Acc = 0.925, Precision = 0.964, Recall = 0.882, F1 = 0.921\n",
      "[Epoch 9] Train Loss = 0.223 | Test Acc = 0.925, Precision = 0.935, Recall = 0.912, F1 = 0.924\n",
      "[Epoch 10] Train Loss = 0.222 | Test Acc = 0.929, Precision = 0.960, Recall = 0.894, F1 = 0.926\n",
      "\n",
      " ========================================  FINAL TEST REPORT ======================================== \n",
      "\n",
      "► Acc = 0.929 Precision = 0.960, Recall = 0.894, F1 = 0.926\n"
     ]
    }
   ],
   "source": [
    "# 이진판단 모델동작, 평가지표 개선 및 데이터 증폭 작업 실시\n",
    "\n",
    "# 회귀문제 단층 퍼셉트론 모델 불러오기 \n",
    "%run .../AnnModel2_Plus.ipynb\n",
    "# 다층 퍼셉트론 기능 추가 \n",
    "%run .../mlp.ipynb\n",
    "\n",
    "# 아무 값도 입력하지 않으면 은닉계층을 갖지 않는 SLP 이 구축됩니다.\n",
    "set_hidden([1,2])\n",
    "# 메서드 동작\n",
    "binary_main(adjust_ratio = True)"
   ]
  },
  {
   "cell_type": "code",
   "execution_count": 4,
   "metadata": {},
   "outputs": [
    {
     "name": "stdout",
     "output_type": "stream",
     "text": [
      "[안내] 은닉 계층 2개를 갖는 다층 퍼셉트론이 적용됩니다.\n",
      "Epoch 1   : Train - Loss = 2.009, Accuracy = 0.349 / Test - Accuracy = 0.342\n",
      "Epoch 2   : Train - Loss = 1.840, Accuracy = 0.350 / Test - Accuracy = 0.342\n",
      "Epoch 3   : Train - Loss = 1.795, Accuracy = 0.350 / Test - Accuracy = 0.342\n",
      "Epoch 4   : Train - Loss = 1.764, Accuracy = 0.350 / Test - Accuracy = 0.342\n",
      "Epoch 5   : Train - Loss = 1.743, Accuracy = 0.350 / Test - Accuracy = 0.342\n",
      "Epoch 6   : Train - Loss = 1.727, Accuracy = 0.350 / Test - Accuracy = 0.342\n",
      "Epoch 7   : Train - Loss = 1.717, Accuracy = 0.350 / Test - Accuracy = 0.342\n",
      "Epoch 8   : Train - Loss = 1.709, Accuracy = 0.350 / Test - Accuracy = 0.342\n",
      "Epoch 9   : Train - Loss = 1.703, Accuracy = 0.350 / Test - Accuracy = 0.342\n",
      "Epoch 10   : Train - Loss = 1.699, Accuracy = 0.350 / Test - Accuracy = 0.342\n",
      "==============================  Final TEST  ==============================\n",
      "\n",
      "Final Accuracy = 0.342\n"
     ]
    }
   ],
   "source": [
    "# 회귀문제 단층 퍼셉트론 모델 불러오기 \n",
    "%run .../AnnModel3.ipynb\n",
    "# 다층 퍼셉트론 기능 추가 \n",
    "%run .../mlp.ipynb\n",
    "\n",
    "# 아무 값도 입력하지 않으면 은닉계층을 갖지 않는 SLP 이 구축됩니다.\n",
    "set_hidden([2,5])\n",
    "# 메서드 동작\n",
    "multiple_main()"
   ]
  }
 ],
 "metadata": {
  "kernelspec": {
   "display_name": "venv_cp",
   "language": "python",
   "name": "python3"
  },
  "language_info": {
   "codemirror_mode": {
    "name": "ipython",
    "version": 3
   },
   "file_extension": ".py",
   "mimetype": "text/x-python",
   "name": "python",
   "nbconvert_exporter": "python",
   "pygments_lexer": "ipython3",
   "version": "3.8.13"
  },
  "orig_nbformat": 4
 },
 "nbformat": 4,
 "nbformat_minor": 2
}
